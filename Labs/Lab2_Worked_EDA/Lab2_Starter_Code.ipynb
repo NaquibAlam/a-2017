{
 "cells": [
  {
   "cell_type": "markdown",
   "metadata": {},
   "source": [
    "# CS 109A/STAT 121A/AC 209A \n",
    "\n",
    "## Lab 2: Cleaning and EDA of Goodreads \n",
    "\n",
    "**Harvard University**<br>\n",
    "**Fall 2017**<br>\n",
    "**Instructors: Pavlos Protopapas, Kevin Rader, Rahul Dave, Margo Levine**\n",
    "\n",
    "---"
   ]
  },
  {
   "cell_type": "markdown",
   "metadata": {},
   "source": [
    "# Table of Contents \n",
    "<ol start=\"0\">\n",
    "<li> Learning Goals </li>\n",
    "<li> Loading and Cleaning with Pandas</li>\n",
    "<li> Asking Questions?  </li>\n",
    "<li> Parsing and Completing the Dataframe  </li>\n",
    "<li> EDA  </li>\n",
    "<li> Determining the Best Books  </li>\n",
    "<li>Trends in Popularity of Genres </li>\n",
    "</ol>"
   ]
  },
  {
   "cell_type": "markdown",
   "metadata": {},
   "source": [
    "## Learning Goals\n",
    "\n",
    "About 6000 odd \"best books\" were fetched and parsed from [Goodreads](https://www.goodreads.com). The \"bestness\" of these books came from a proprietary formula used by Goodreads and published as a list on their web site.\n",
    "\n",
    "We parsed the page for each book and saved data from all these pages in a tabular format as a CSV file. In this lab we'll clean and further parse the data.  We'll then do some exploratory data analysis to answer questions about these best books and popular genres.  \n",
    "\n",
    "\n",
    "By the end of this lab, you should be able to:\n",
    "\n",
    "- Load and systematically address missing values, ancoded as `NaN` values in our data set, for example, by removing observations associated with these values.\n",
    "- Parse columns in the dataframe to create new dataframe columns.\n",
    "- Create and interpret visualizations to explore the data set\n",
    "\n",
    "*This lab corresponds to lectures 2 and 3 and maps on to homework 1 and further.*"
   ]
  },
  {
   "cell_type": "markdown",
   "metadata": {},
   "source": [
    "### Basic EDA workflow\n",
    "\n",
    "(From the lecture, repeated here for convenience).\n",
    "\n",
    "The basic workflow is as follows:\n",
    "\n",
    "1. **Build** a DataFrame from the data (ideally, put all data in this object)\n",
    "2. **Clean** the DataFrame. It should have the following properties:\n",
    "    - Each row describes a single object\n",
    "    - Each column describes a property of that object\n",
    "    - Columns are numeric whenever appropriate\n",
    "    - Columns contain atomic properties that cannot be further decomposed\n",
    "3. Explore **global properties**. Use histograms, scatter plots, and aggregation functions to summarize the data.\n",
    "4. Explore **group properties**. Use groupby and small multiples to compare subsets of the data.\n",
    "\n",
    "This process transforms your data into a format which is easier to work with, gives you a basic overview of the data's properties, and likely generates several questions for you to followup in subsequent analysis."
   ]
  },
  {
   "cell_type": "markdown",
   "metadata": {},
   "source": [
    "## Part 1: Loading and Cleaning with Pandas \n",
    "Read in the `goodreads.csv` file, examine the data, and do any necessary data cleaning. \n",
    "\n",
    "Here is a description of the columns (in order) present in this csv file:\n",
    "\n",
    "```\n",
    "rating: the average rating on a 1-5 scale achieved by the book\n",
    "review_count: the number of Goodreads users who reviewed this book\n",
    "isbn: the ISBN code for the book\n",
    "booktype: an internal Goodreads identifier for the book\n",
    "author_url: the Goodreads (relative) URL for the author of the book\n",
    "year: the year the book was published\n",
    "genre_urls: a string with '|' separated relative URLS of Goodreads genre pages\n",
    "dir: a directory identifier internal to the scraping code\n",
    "rating_count: the number of ratings for this book (this is different from the number of reviews)\n",
    "name: the name of the book\n",
    "```\n",
    "\n",
    "Report all the issues you found with the data and how you resolved them.  \n",
    "\n",
    "[15 minutes]\n",
    "\n",
    "----"
   ]
  },
  {
   "cell_type": "markdown",
   "metadata": {},
   "source": [
    "Load the appropriate libraries"
   ]
  },
  {
   "cell_type": "code",
   "execution_count": 1,
   "metadata": {
    "collapsed": true
   },
   "outputs": [],
   "source": [
    "%matplotlib inline\n",
    "import numpy as np\n",
    "import matplotlib.pyplot as plt\n",
    "import pandas as pd\n",
    "import seaborn as sns\n",
    "pd.set_option('display.width', 500)\n",
    "pd.set_option('display.max_columns', 100)"
   ]
  },
  {
   "cell_type": "markdown",
   "metadata": {},
   "source": [
    "### Cleaning: Reading in the data\n",
    "We read in and clean the data from `goodreads.csv`.  Try directly loading the data from file and see what the dataframe look like. What's the problem with naively loading the data as is? You might want to open the CSV file in Excel or your favorite text editor to see how this dataset is formatted."
   ]
  },
  {
   "cell_type": "code",
   "execution_count": 2,
   "metadata": {},
   "outputs": [
    {
     "data": {
      "text/html": [
       "<div>\n",
       "<style>\n",
       "    .dataframe thead tr:only-child th {\n",
       "        text-align: right;\n",
       "    }\n",
       "\n",
       "    .dataframe thead th {\n",
       "        text-align: left;\n",
       "    }\n",
       "\n",
       "    .dataframe tbody tr th {\n",
       "        vertical-align: top;\n",
       "    }\n",
       "</style>\n",
       "<table border=\"1\" class=\"dataframe\">\n",
       "  <thead>\n",
       "    <tr style=\"text-align: right;\">\n",
       "      <th></th>\n",
       "      <th>4.40</th>\n",
       "      <th>136455</th>\n",
       "      <th>0439023483</th>\n",
       "      <th>good_reads:book</th>\n",
       "      <th>https://www.goodreads.com/author/show/153394.Suzanne_Collins</th>\n",
       "      <th>2008</th>\n",
       "      <th>/genres/young-adult|/genres/science-fiction|/genres/dystopia|/genres/fantasy|/genres/science-fiction|/genres/romance|/genres/adventure|/genres/book-club|/genres/young-adult|/genres/teen|/genres/apocalyptic|/genres/post-apocalyptic|/genres/action</th>\n",
       "      <th>dir01/2767052-the-hunger-games.html</th>\n",
       "      <th>2958974</th>\n",
       "      <th>The Hunger Games (The Hunger Games, #1)</th>\n",
       "    </tr>\n",
       "  </thead>\n",
       "  <tbody>\n",
       "    <tr>\n",
       "      <th>0</th>\n",
       "      <td>4.41</td>\n",
       "      <td>16648</td>\n",
       "      <td>0439358078</td>\n",
       "      <td>good_reads:book</td>\n",
       "      <td>https://www.goodreads.com/author/show/1077326....</td>\n",
       "      <td>2003.0</td>\n",
       "      <td>/genres/fantasy|/genres/young-adult|/genres/fi...</td>\n",
       "      <td>dir01/2.Harry_Potter_and_the_Order_of_the_Phoe...</td>\n",
       "      <td>1284478</td>\n",
       "      <td>Harry Potter and the Order of the Phoenix (Har...</td>\n",
       "    </tr>\n",
       "    <tr>\n",
       "      <th>1</th>\n",
       "      <td>3.56</td>\n",
       "      <td>85746</td>\n",
       "      <td>0316015849</td>\n",
       "      <td>good_reads:book</td>\n",
       "      <td>https://www.goodreads.com/author/show/941441.S...</td>\n",
       "      <td>2005.0</td>\n",
       "      <td>/genres/young-adult|/genres/fantasy|/genres/ro...</td>\n",
       "      <td>dir01/41865.Twilight.html</td>\n",
       "      <td>2579564</td>\n",
       "      <td>Twilight (Twilight, #1)</td>\n",
       "    </tr>\n",
       "    <tr>\n",
       "      <th>2</th>\n",
       "      <td>4.23</td>\n",
       "      <td>47906</td>\n",
       "      <td>0061120081</td>\n",
       "      <td>good_reads:book</td>\n",
       "      <td>https://www.goodreads.com/author/show/1825.Har...</td>\n",
       "      <td>1960.0</td>\n",
       "      <td>/genres/classics|/genres/fiction|/genres/histo...</td>\n",
       "      <td>dir01/2657.To_Kill_a_Mockingbird.html</td>\n",
       "      <td>2078123</td>\n",
       "      <td>To Kill a Mockingbird</td>\n",
       "    </tr>\n",
       "    <tr>\n",
       "      <th>3</th>\n",
       "      <td>4.23</td>\n",
       "      <td>34772</td>\n",
       "      <td>0679783261</td>\n",
       "      <td>good_reads:book</td>\n",
       "      <td>https://www.goodreads.com/author/show/1265.Jan...</td>\n",
       "      <td>1813.0</td>\n",
       "      <td>/genres/classics|/genres/fiction|/genres/roman...</td>\n",
       "      <td>dir01/1885.Pride_and_Prejudice.html</td>\n",
       "      <td>1388992</td>\n",
       "      <td>Pride and Prejudice</td>\n",
       "    </tr>\n",
       "    <tr>\n",
       "      <th>4</th>\n",
       "      <td>4.25</td>\n",
       "      <td>12363</td>\n",
       "      <td>0446675539</td>\n",
       "      <td>good_reads:book</td>\n",
       "      <td>https://www.goodreads.com/author/show/11081.Ma...</td>\n",
       "      <td>1936.0</td>\n",
       "      <td>/genres/classics|/genres/historical-fiction|/g...</td>\n",
       "      <td>dir01/18405.Gone_with_the_Wind.html</td>\n",
       "      <td>645470</td>\n",
       "      <td>Gone with the Wind</td>\n",
       "    </tr>\n",
       "    <tr>\n",
       "      <th>5</th>\n",
       "      <td>4.22</td>\n",
       "      <td>7205</td>\n",
       "      <td>0066238501</td>\n",
       "      <td>good_reads:book</td>\n",
       "      <td>https://www.goodreads.com/author/show/1069006....</td>\n",
       "      <td>1949.0</td>\n",
       "      <td>/genres/classics|/genres/young-adult|/genres/c...</td>\n",
       "      <td>dir01/11127.The_Chronicles_of_Narnia.html</td>\n",
       "      <td>286677</td>\n",
       "      <td>The Chronicles of Narnia (Chronicles of Narnia...</td>\n",
       "    </tr>\n",
       "    <tr>\n",
       "      <th>6</th>\n",
       "      <td>4.38</td>\n",
       "      <td>10902</td>\n",
       "      <td>0060256656</td>\n",
       "      <td>good_reads:book</td>\n",
       "      <td>https://www.goodreads.com/author/show/435477.S...</td>\n",
       "      <td>1964.0</td>\n",
       "      <td>/genres/childrens|/genres/young-adult|/genres/...</td>\n",
       "      <td>dir01/370493.The_Giving_Tree.html</td>\n",
       "      <td>502891</td>\n",
       "      <td>The Giving Tree</td>\n",
       "    </tr>\n",
       "    <tr>\n",
       "      <th>7</th>\n",
       "      <td>3.79</td>\n",
       "      <td>20670</td>\n",
       "      <td>0452284244</td>\n",
       "      <td>good_reads:book</td>\n",
       "      <td>https://www.goodreads.com/author/show/3706.Geo...</td>\n",
       "      <td>1945.0</td>\n",
       "      <td>/genres/classics|/genres/fiction|/genres/scien...</td>\n",
       "      <td>dir01/7613.Animal_Farm.html</td>\n",
       "      <td>1364879</td>\n",
       "      <td>Animal Farm</td>\n",
       "    </tr>\n",
       "    <tr>\n",
       "      <th>8</th>\n",
       "      <td>4.18</td>\n",
       "      <td>12302</td>\n",
       "      <td>0345391802</td>\n",
       "      <td>good_reads:book</td>\n",
       "      <td>https://www.goodreads.com/author/show/4.Dougla...</td>\n",
       "      <td>1979.0</td>\n",
       "      <td>/genres/science-fiction|/genres/humor|/genres/...</td>\n",
       "      <td>dir01/11.The_Hitchhiker_s_Guide_to_the_Galaxy....</td>\n",
       "      <td>724713</td>\n",
       "      <td>The Hitchhiker's Guide to the Galaxy (Hitchhik...</td>\n",
       "    </tr>\n",
       "    <tr>\n",
       "      <th>9</th>\n",
       "      <td>4.03</td>\n",
       "      <td>20937</td>\n",
       "      <td>0739326228</td>\n",
       "      <td>good_reads:book</td>\n",
       "      <td>https://www.goodreads.com/author/show/614.Arth...</td>\n",
       "      <td>1997.0</td>\n",
       "      <td>/genres/fiction|/genres/historical-fiction|/ge...</td>\n",
       "      <td>dir01/930.Memoirs_of_a_Geisha.html</td>\n",
       "      <td>1042679</td>\n",
       "      <td>Memoirs of a Geisha</td>\n",
       "    </tr>\n",
       "  </tbody>\n",
       "</table>\n",
       "</div>"
      ],
      "text/plain": [
       "   4.40 136455  0439023483  good_reads:book https://www.goodreads.com/author/show/153394.Suzanne_Collins    2008 /genres/young-adult|/genres/science-fiction|/genres/dystopia|/genres/fantasy|/genres/science-fiction|/genres/romance|/genres/adventure|/genres/book-club|/genres/young-adult|/genres/teen|/genres/apocalyptic|/genres/post-apocalyptic|/genres/action                dir01/2767052-the-hunger-games.html  2958974            The Hunger Games (The Hunger Games, #1)\n",
       "0  4.41  16648  0439358078  good_reads:book  https://www.goodreads.com/author/show/1077326....            2003.0  /genres/fantasy|/genres/young-adult|/genres/fi...                                                                                                                                                                                                     dir01/2.Harry_Potter_and_the_Order_of_the_Phoe...  1284478  Harry Potter and the Order of the Phoenix (Har...\n",
       "1  3.56  85746  0316015849  good_reads:book  https://www.goodreads.com/author/show/941441.S...            2005.0  /genres/young-adult|/genres/fantasy|/genres/ro...                                                                                                                                                                                                                             dir01/41865.Twilight.html  2579564                            Twilight (Twilight, #1)\n",
       "2  4.23  47906  0061120081  good_reads:book  https://www.goodreads.com/author/show/1825.Har...            1960.0  /genres/classics|/genres/fiction|/genres/histo...                                                                                                                                                                                                                 dir01/2657.To_Kill_a_Mockingbird.html  2078123                              To Kill a Mockingbird\n",
       "3  4.23  34772  0679783261  good_reads:book  https://www.goodreads.com/author/show/1265.Jan...            1813.0  /genres/classics|/genres/fiction|/genres/roman...                                                                                                                                                                                                                   dir01/1885.Pride_and_Prejudice.html  1388992                                Pride and Prejudice\n",
       "4  4.25  12363  0446675539  good_reads:book  https://www.goodreads.com/author/show/11081.Ma...            1936.0  /genres/classics|/genres/historical-fiction|/g...                                                                                                                                                                                                                   dir01/18405.Gone_with_the_Wind.html   645470                                 Gone with the Wind\n",
       "5  4.22   7205  0066238501  good_reads:book  https://www.goodreads.com/author/show/1069006....            1949.0  /genres/classics|/genres/young-adult|/genres/c...                                                                                                                                                                                                             dir01/11127.The_Chronicles_of_Narnia.html   286677  The Chronicles of Narnia (Chronicles of Narnia...\n",
       "6  4.38  10902  0060256656  good_reads:book  https://www.goodreads.com/author/show/435477.S...            1964.0  /genres/childrens|/genres/young-adult|/genres/...                                                                                                                                                                                                                     dir01/370493.The_Giving_Tree.html   502891                                    The Giving Tree\n",
       "7  3.79  20670  0452284244  good_reads:book  https://www.goodreads.com/author/show/3706.Geo...            1945.0  /genres/classics|/genres/fiction|/genres/scien...                                                                                                                                                                                                                           dir01/7613.Animal_Farm.html  1364879                                        Animal Farm\n",
       "8  4.18  12302  0345391802  good_reads:book  https://www.goodreads.com/author/show/4.Dougla...            1979.0  /genres/science-fiction|/genres/humor|/genres/...                                                                                                                                                                                                     dir01/11.The_Hitchhiker_s_Guide_to_the_Galaxy....   724713  The Hitchhiker's Guide to the Galaxy (Hitchhik...\n",
       "9  4.03  20937  0739326228  good_reads:book  https://www.goodreads.com/author/show/614.Arth...            1997.0  /genres/fiction|/genres/historical-fiction|/ge...                                                                                                                                                                                                                    dir01/930.Memoirs_of_a_Geisha.html  1042679                                Memoirs of a Geisha"
      ]
     },
     "execution_count": 2,
     "metadata": {},
     "output_type": "execute_result"
    }
   ],
   "source": [
    "#Read the data into a dataframe\n",
    "df = pd.read_csv(\"data/goodreads.csv\")\n",
    "\n",
    "#Examine the first couple of rows of the dataframe\n",
    "####### \n",
    "#   Insert your code\n",
    "df.head(10)"
   ]
  },
  {
   "cell_type": "markdown",
   "metadata": {},
   "source": [
    "Lets read the csv file with custom column descriptions specified in the problem statement."
   ]
  },
  {
   "cell_type": "code",
   "execution_count": 3,
   "metadata": {},
   "outputs": [
    {
     "data": {
      "text/html": [
       "<div>\n",
       "<style>\n",
       "    .dataframe thead tr:only-child th {\n",
       "        text-align: right;\n",
       "    }\n",
       "\n",
       "    .dataframe thead th {\n",
       "        text-align: left;\n",
       "    }\n",
       "\n",
       "    .dataframe tbody tr th {\n",
       "        vertical-align: top;\n",
       "    }\n",
       "</style>\n",
       "<table border=\"1\" class=\"dataframe\">\n",
       "  <thead>\n",
       "    <tr style=\"text-align: right;\">\n",
       "      <th></th>\n",
       "      <th>rating</th>\n",
       "      <th>review_count</th>\n",
       "      <th>isbn</th>\n",
       "      <th>booktype</th>\n",
       "      <th>author_url</th>\n",
       "      <th>year</th>\n",
       "      <th>genre_urls</th>\n",
       "      <th>dir</th>\n",
       "      <th>rating_count</th>\n",
       "      <th>name</th>\n",
       "    </tr>\n",
       "  </thead>\n",
       "  <tbody>\n",
       "    <tr>\n",
       "      <th>0</th>\n",
       "      <td>4.40</td>\n",
       "      <td>136455</td>\n",
       "      <td>0439023483</td>\n",
       "      <td>good_reads:book</td>\n",
       "      <td>https://www.goodreads.com/author/show/153394.S...</td>\n",
       "      <td>2008.0</td>\n",
       "      <td>/genres/young-adult|/genres/science-fiction|/g...</td>\n",
       "      <td>dir01/2767052-the-hunger-games.html</td>\n",
       "      <td>2958974</td>\n",
       "      <td>The Hunger Games (The Hunger Games, #1)</td>\n",
       "    </tr>\n",
       "    <tr>\n",
       "      <th>1</th>\n",
       "      <td>4.41</td>\n",
       "      <td>16648</td>\n",
       "      <td>0439358078</td>\n",
       "      <td>good_reads:book</td>\n",
       "      <td>https://www.goodreads.com/author/show/1077326....</td>\n",
       "      <td>2003.0</td>\n",
       "      <td>/genres/fantasy|/genres/young-adult|/genres/fi...</td>\n",
       "      <td>dir01/2.Harry_Potter_and_the_Order_of_the_Phoe...</td>\n",
       "      <td>1284478</td>\n",
       "      <td>Harry Potter and the Order of the Phoenix (Har...</td>\n",
       "    </tr>\n",
       "    <tr>\n",
       "      <th>2</th>\n",
       "      <td>3.56</td>\n",
       "      <td>85746</td>\n",
       "      <td>0316015849</td>\n",
       "      <td>good_reads:book</td>\n",
       "      <td>https://www.goodreads.com/author/show/941441.S...</td>\n",
       "      <td>2005.0</td>\n",
       "      <td>/genres/young-adult|/genres/fantasy|/genres/ro...</td>\n",
       "      <td>dir01/41865.Twilight.html</td>\n",
       "      <td>2579564</td>\n",
       "      <td>Twilight (Twilight, #1)</td>\n",
       "    </tr>\n",
       "    <tr>\n",
       "      <th>3</th>\n",
       "      <td>4.23</td>\n",
       "      <td>47906</td>\n",
       "      <td>0061120081</td>\n",
       "      <td>good_reads:book</td>\n",
       "      <td>https://www.goodreads.com/author/show/1825.Har...</td>\n",
       "      <td>1960.0</td>\n",
       "      <td>/genres/classics|/genres/fiction|/genres/histo...</td>\n",
       "      <td>dir01/2657.To_Kill_a_Mockingbird.html</td>\n",
       "      <td>2078123</td>\n",
       "      <td>To Kill a Mockingbird</td>\n",
       "    </tr>\n",
       "    <tr>\n",
       "      <th>4</th>\n",
       "      <td>4.23</td>\n",
       "      <td>34772</td>\n",
       "      <td>0679783261</td>\n",
       "      <td>good_reads:book</td>\n",
       "      <td>https://www.goodreads.com/author/show/1265.Jan...</td>\n",
       "      <td>1813.0</td>\n",
       "      <td>/genres/classics|/genres/fiction|/genres/roman...</td>\n",
       "      <td>dir01/1885.Pride_and_Prejudice.html</td>\n",
       "      <td>1388992</td>\n",
       "      <td>Pride and Prejudice</td>\n",
       "    </tr>\n",
       "    <tr>\n",
       "      <th>5</th>\n",
       "      <td>4.25</td>\n",
       "      <td>12363</td>\n",
       "      <td>0446675539</td>\n",
       "      <td>good_reads:book</td>\n",
       "      <td>https://www.goodreads.com/author/show/11081.Ma...</td>\n",
       "      <td>1936.0</td>\n",
       "      <td>/genres/classics|/genres/historical-fiction|/g...</td>\n",
       "      <td>dir01/18405.Gone_with_the_Wind.html</td>\n",
       "      <td>645470</td>\n",
       "      <td>Gone with the Wind</td>\n",
       "    </tr>\n",
       "    <tr>\n",
       "      <th>6</th>\n",
       "      <td>4.22</td>\n",
       "      <td>7205</td>\n",
       "      <td>0066238501</td>\n",
       "      <td>good_reads:book</td>\n",
       "      <td>https://www.goodreads.com/author/show/1069006....</td>\n",
       "      <td>1949.0</td>\n",
       "      <td>/genres/classics|/genres/young-adult|/genres/c...</td>\n",
       "      <td>dir01/11127.The_Chronicles_of_Narnia.html</td>\n",
       "      <td>286677</td>\n",
       "      <td>The Chronicles of Narnia (Chronicles of Narnia...</td>\n",
       "    </tr>\n",
       "    <tr>\n",
       "      <th>7</th>\n",
       "      <td>4.38</td>\n",
       "      <td>10902</td>\n",
       "      <td>0060256656</td>\n",
       "      <td>good_reads:book</td>\n",
       "      <td>https://www.goodreads.com/author/show/435477.S...</td>\n",
       "      <td>1964.0</td>\n",
       "      <td>/genres/childrens|/genres/young-adult|/genres/...</td>\n",
       "      <td>dir01/370493.The_Giving_Tree.html</td>\n",
       "      <td>502891</td>\n",
       "      <td>The Giving Tree</td>\n",
       "    </tr>\n",
       "    <tr>\n",
       "      <th>8</th>\n",
       "      <td>3.79</td>\n",
       "      <td>20670</td>\n",
       "      <td>0452284244</td>\n",
       "      <td>good_reads:book</td>\n",
       "      <td>https://www.goodreads.com/author/show/3706.Geo...</td>\n",
       "      <td>1945.0</td>\n",
       "      <td>/genres/classics|/genres/fiction|/genres/scien...</td>\n",
       "      <td>dir01/7613.Animal_Farm.html</td>\n",
       "      <td>1364879</td>\n",
       "      <td>Animal Farm</td>\n",
       "    </tr>\n",
       "    <tr>\n",
       "      <th>9</th>\n",
       "      <td>4.18</td>\n",
       "      <td>12302</td>\n",
       "      <td>0345391802</td>\n",
       "      <td>good_reads:book</td>\n",
       "      <td>https://www.goodreads.com/author/show/4.Dougla...</td>\n",
       "      <td>1979.0</td>\n",
       "      <td>/genres/science-fiction|/genres/humor|/genres/...</td>\n",
       "      <td>dir01/11.The_Hitchhiker_s_Guide_to_the_Galaxy....</td>\n",
       "      <td>724713</td>\n",
       "      <td>The Hitchhiker's Guide to the Galaxy (Hitchhik...</td>\n",
       "    </tr>\n",
       "  </tbody>\n",
       "</table>\n",
       "</div>"
      ],
      "text/plain": [
       "   rating review_count        isbn         booktype                                         author_url    year                                         genre_urls                                                dir rating_count                                               name\n",
       "0    4.40       136455  0439023483  good_reads:book  https://www.goodreads.com/author/show/153394.S...  2008.0  /genres/young-adult|/genres/science-fiction|/g...                dir01/2767052-the-hunger-games.html      2958974            The Hunger Games (The Hunger Games, #1)\n",
       "1    4.41        16648  0439358078  good_reads:book  https://www.goodreads.com/author/show/1077326....  2003.0  /genres/fantasy|/genres/young-adult|/genres/fi...  dir01/2.Harry_Potter_and_the_Order_of_the_Phoe...      1284478  Harry Potter and the Order of the Phoenix (Har...\n",
       "2    3.56        85746  0316015849  good_reads:book  https://www.goodreads.com/author/show/941441.S...  2005.0  /genres/young-adult|/genres/fantasy|/genres/ro...                          dir01/41865.Twilight.html      2579564                            Twilight (Twilight, #1)\n",
       "3    4.23        47906  0061120081  good_reads:book  https://www.goodreads.com/author/show/1825.Har...  1960.0  /genres/classics|/genres/fiction|/genres/histo...              dir01/2657.To_Kill_a_Mockingbird.html      2078123                              To Kill a Mockingbird\n",
       "4    4.23        34772  0679783261  good_reads:book  https://www.goodreads.com/author/show/1265.Jan...  1813.0  /genres/classics|/genres/fiction|/genres/roman...                dir01/1885.Pride_and_Prejudice.html      1388992                                Pride and Prejudice\n",
       "5    4.25        12363  0446675539  good_reads:book  https://www.goodreads.com/author/show/11081.Ma...  1936.0  /genres/classics|/genres/historical-fiction|/g...                dir01/18405.Gone_with_the_Wind.html       645470                                 Gone with the Wind\n",
       "6    4.22         7205  0066238501  good_reads:book  https://www.goodreads.com/author/show/1069006....  1949.0  /genres/classics|/genres/young-adult|/genres/c...          dir01/11127.The_Chronicles_of_Narnia.html       286677  The Chronicles of Narnia (Chronicles of Narnia...\n",
       "7    4.38        10902  0060256656  good_reads:book  https://www.goodreads.com/author/show/435477.S...  1964.0  /genres/childrens|/genres/young-adult|/genres/...                  dir01/370493.The_Giving_Tree.html       502891                                    The Giving Tree\n",
       "8    3.79        20670  0452284244  good_reads:book  https://www.goodreads.com/author/show/3706.Geo...  1945.0  /genres/classics|/genres/fiction|/genres/scien...                        dir01/7613.Animal_Farm.html      1364879                                        Animal Farm\n",
       "9    4.18        12302  0345391802  good_reads:book  https://www.goodreads.com/author/show/4.Dougla...  1979.0  /genres/science-fiction|/genres/humor|/genres/...  dir01/11.The_Hitchhiker_s_Guide_to_the_Galaxy....       724713  The Hitchhiker's Guide to the Galaxy (Hitchhik..."
      ]
     },
     "execution_count": 3,
     "metadata": {},
     "output_type": "execute_result"
    }
   ],
   "source": [
    "df=pd.read_csv(\"data/goodreads.csv\", header=None,\n",
    "               names=[\"rating\", 'review_count', 'isbn', 'booktype',\n",
    "                      'author_url', 'year', 'genre_urls', 'dir','rating_count', 'name'])\n",
    "\n",
    "#Examine the first couple of rows of the dataframe\n",
    "####### \n",
    "#   Insert your code\n",
    "df.head(10)"
   ]
  },
  {
   "cell_type": "markdown",
   "metadata": {},
   "source": [
    "### Cleaning: Examing the dataframe - quick checks\n",
    "\n",
    "We should examine the dataframe to get a overall sense of the content."
   ]
  },
  {
   "cell_type": "code",
   "execution_count": 4,
   "metadata": {},
   "outputs": [
    {
     "data": {
      "text/plain": [
       "rating          float64\n",
       "review_count     object\n",
       "isbn             object\n",
       "booktype         object\n",
       "author_url       object\n",
       "year            float64\n",
       "genre_urls       object\n",
       "dir              object\n",
       "rating_count     object\n",
       "name             object\n",
       "dtype: object"
      ]
     },
     "execution_count": 4,
     "metadata": {},
     "output_type": "execute_result"
    }
   ],
   "source": [
    "#Start by check the column data types\n",
    "####### \n",
    "#   Insert your code\n",
    "df.dtypes"
   ]
  },
  {
   "cell_type": "markdown",
   "metadata": {},
   "source": [
    "There are a couple more quick sanity checks to perform on the dataframe. "
   ]
  },
  {
   "cell_type": "code",
   "execution_count": 5,
   "metadata": {},
   "outputs": [
    {
     "data": {
      "text/html": [
       "<div>\n",
       "<style>\n",
       "    .dataframe thead tr:only-child th {\n",
       "        text-align: right;\n",
       "    }\n",
       "\n",
       "    .dataframe thead th {\n",
       "        text-align: left;\n",
       "    }\n",
       "\n",
       "    .dataframe tbody tr th {\n",
       "        vertical-align: top;\n",
       "    }\n",
       "</style>\n",
       "<table border=\"1\" class=\"dataframe\">\n",
       "  <thead>\n",
       "    <tr style=\"text-align: right;\">\n",
       "      <th></th>\n",
       "      <th>rating</th>\n",
       "      <th>year</th>\n",
       "    </tr>\n",
       "  </thead>\n",
       "  <tbody>\n",
       "    <tr>\n",
       "      <th>count</th>\n",
       "      <td>5998.000000</td>\n",
       "      <td>5993.000000</td>\n",
       "    </tr>\n",
       "    <tr>\n",
       "      <th>mean</th>\n",
       "      <td>4.042201</td>\n",
       "      <td>1969.085099</td>\n",
       "    </tr>\n",
       "    <tr>\n",
       "      <th>std</th>\n",
       "      <td>0.260661</td>\n",
       "      <td>185.383169</td>\n",
       "    </tr>\n",
       "    <tr>\n",
       "      <th>min</th>\n",
       "      <td>2.000000</td>\n",
       "      <td>-1500.000000</td>\n",
       "    </tr>\n",
       "    <tr>\n",
       "      <th>25%</th>\n",
       "      <td>3.870000</td>\n",
       "      <td>1980.000000</td>\n",
       "    </tr>\n",
       "    <tr>\n",
       "      <th>50%</th>\n",
       "      <td>4.050000</td>\n",
       "      <td>2002.000000</td>\n",
       "    </tr>\n",
       "    <tr>\n",
       "      <th>75%</th>\n",
       "      <td>4.210000</td>\n",
       "      <td>2009.000000</td>\n",
       "    </tr>\n",
       "    <tr>\n",
       "      <th>max</th>\n",
       "      <td>5.000000</td>\n",
       "      <td>2014.000000</td>\n",
       "    </tr>\n",
       "  </tbody>\n",
       "</table>\n",
       "</div>"
      ],
      "text/plain": [
       "            rating         year\n",
       "count  5998.000000  5993.000000\n",
       "mean      4.042201  1969.085099\n",
       "std       0.260661   185.383169\n",
       "min       2.000000 -1500.000000\n",
       "25%       3.870000  1980.000000\n",
       "50%       4.050000  2002.000000\n",
       "75%       4.210000  2009.000000\n",
       "max       5.000000  2014.000000"
      ]
     },
     "execution_count": 5,
     "metadata": {},
     "output_type": "execute_result"
    }
   ],
   "source": [
    "#Come up with a few other important properties of the dataframe to check\n",
    "####### \n",
    "#   Insert your code\n",
    "df.describe()"
   ]
  },
  {
   "cell_type": "markdown",
   "metadata": {},
   "source": [
    "Was the data read correctly and values represented as we expected?"
   ]
  },
  {
   "cell_type": "markdown",
   "metadata": {},
   "source": [
    "### Cleaning: Examining the dataframe - a deeper look"
   ]
  },
  {
   "cell_type": "markdown",
   "metadata": {},
   "source": [
    "Beyond performing checking some quick general properties of the data frame and looking at the first $n$ rows, we can dig a bit deeper into the values being stored. If you haven't already, check to see if there are any missing values in the data frame."
   ]
  },
  {
   "cell_type": "code",
   "execution_count": 10,
   "metadata": {},
   "outputs": [
    {
     "name": "stdout",
     "output_type": "stream",
     "text": [
      "(6000, 10)\n"
     ]
    },
    {
     "data": {
      "text/plain": [
       "rating            2\n",
       "review_count      0\n",
       "isbn            475\n",
       "booktype          0\n",
       "author_url        0\n",
       "year              7\n",
       "genre_urls       62\n",
       "dir               0\n",
       "rating_count      0\n",
       "name              0\n",
       "dtype: int64"
      ]
     },
     "execution_count": 10,
     "metadata": {},
     "output_type": "execute_result"
    }
   ],
   "source": [
    "#Get a sense of how many missing values there are in the dataframe.\n",
    "####### \n",
    "#   Insert your code\n",
    "print(df.shape)\n",
    "(df.isnull().sum())"
   ]
  },
  {
   "cell_type": "code",
   "execution_count": 19,
   "metadata": {
    "collapsed": true
   },
   "outputs": [],
   "source": [
    "#Try to locate where the missing values occur\n",
    "####### \n",
    "#   Insert your code\n",
    "####### "
   ]
  },
  {
   "cell_type": "markdown",
   "metadata": {},
   "source": [
    "How does `pandas` or `numpy` handle missing values when we try to compute with data sets that include them?"
   ]
  },
  {
   "cell_type": "markdown",
   "metadata": {},
   "source": [
    "### Cleaning: Dealing with Missing Values\n",
    "How should we interpret 'missing' or 'invalid' values in the data (hint: look at where these values occur)? One approach is to simply exclude them from the dataframe. Is this appropriate for all 'missing' or 'invalid' values? How would you drop these values from the dataframe (hint: is it possible to eliminate just a single entry in your dataframe? Should you eliminate an entire row? Or column?)?"
   ]
  },
  {
   "cell_type": "code",
   "execution_count": 14,
   "metadata": {},
   "outputs": [
    {
     "name": "stdout",
     "output_type": "stream",
     "text": [
      "(5496, 10)\n"
     ]
    },
    {
     "data": {
      "text/plain": [
       "rating          0\n",
       "review_count    0\n",
       "isbn            0\n",
       "booktype        0\n",
       "author_url      0\n",
       "year            0\n",
       "genre_urls      0\n",
       "dir             0\n",
       "rating_count    0\n",
       "name            0\n",
       "dtype: int64"
      ]
     },
     "execution_count": 14,
     "metadata": {},
     "output_type": "execute_result"
    }
   ],
   "source": [
    "#Treat the missing or invalid values in your dataframe\n",
    "####### \n",
    "#   Insert your code\n",
    "df.dropna(subset=['rating','isbn','year','genre_urls'],inplace=True)\n",
    "print(df.shape)\n",
    "df.isnull().sum()"
   ]
  },
  {
   "cell_type": "markdown",
   "metadata": {},
   "source": [
    "Ok so we have done some cleaning. Is it enough? "
   ]
  },
  {
   "cell_type": "code",
   "execution_count": 15,
   "metadata": {},
   "outputs": [
    {
     "data": {
      "text/plain": [
       "rating          float64\n",
       "review_count     object\n",
       "isbn             object\n",
       "booktype         object\n",
       "author_url       object\n",
       "year            float64\n",
       "genre_urls       object\n",
       "dir              object\n",
       "rating_count     object\n",
       "name             object\n",
       "dtype: object"
      ]
     },
     "execution_count": 15,
     "metadata": {},
     "output_type": "execute_result"
    }
   ],
   "source": [
    "#Check the column data types again\n",
    "####### \n",
    "#   Insert your code\n",
    "df.dtypes"
   ]
  },
  {
   "cell_type": "markdown",
   "metadata": {},
   "source": [
    "Notice the float has not yet changed.\n",
    "Ok so lets fix those types. If the type conversion fails, we now know we have further problems."
   ]
  },
  {
   "cell_type": "code",
   "execution_count": 19,
   "metadata": {},
   "outputs": [
    {
     "name": "stdout",
     "output_type": "stream",
     "text": [
      "rating          float64\n",
      "review_count      int64\n",
      "isbn             object\n",
      "booktype         object\n",
      "author_url       object\n",
      "year              int64\n",
      "genre_urls       object\n",
      "dir              object\n",
      "rating_count      int64\n",
      "name             object\n",
      "dtype: object\n"
     ]
    },
    {
     "data": {
      "text/html": [
       "<div>\n",
       "<style>\n",
       "    .dataframe thead tr:only-child th {\n",
       "        text-align: right;\n",
       "    }\n",
       "\n",
       "    .dataframe thead th {\n",
       "        text-align: left;\n",
       "    }\n",
       "\n",
       "    .dataframe tbody tr th {\n",
       "        vertical-align: top;\n",
       "    }\n",
       "</style>\n",
       "<table border=\"1\" class=\"dataframe\">\n",
       "  <thead>\n",
       "    <tr style=\"text-align: right;\">\n",
       "      <th></th>\n",
       "      <th>rating</th>\n",
       "      <th>review_count</th>\n",
       "      <th>isbn</th>\n",
       "      <th>booktype</th>\n",
       "      <th>author_url</th>\n",
       "      <th>year</th>\n",
       "      <th>genre_urls</th>\n",
       "      <th>dir</th>\n",
       "      <th>rating_count</th>\n",
       "      <th>name</th>\n",
       "    </tr>\n",
       "  </thead>\n",
       "  <tbody>\n",
       "    <tr>\n",
       "      <th>0</th>\n",
       "      <td>4.40</td>\n",
       "      <td>136455</td>\n",
       "      <td>0439023483</td>\n",
       "      <td>good_reads:book</td>\n",
       "      <td>https://www.goodreads.com/author/show/153394.S...</td>\n",
       "      <td>2008</td>\n",
       "      <td>/genres/young-adult|/genres/science-fiction|/g...</td>\n",
       "      <td>dir01/2767052-the-hunger-games.html</td>\n",
       "      <td>2958974</td>\n",
       "      <td>The Hunger Games (The Hunger Games, #1)</td>\n",
       "    </tr>\n",
       "    <tr>\n",
       "      <th>1</th>\n",
       "      <td>4.41</td>\n",
       "      <td>16648</td>\n",
       "      <td>0439358078</td>\n",
       "      <td>good_reads:book</td>\n",
       "      <td>https://www.goodreads.com/author/show/1077326....</td>\n",
       "      <td>2003</td>\n",
       "      <td>/genres/fantasy|/genres/young-adult|/genres/fi...</td>\n",
       "      <td>dir01/2.Harry_Potter_and_the_Order_of_the_Phoe...</td>\n",
       "      <td>1284478</td>\n",
       "      <td>Harry Potter and the Order of the Phoenix (Har...</td>\n",
       "    </tr>\n",
       "    <tr>\n",
       "      <th>2</th>\n",
       "      <td>3.56</td>\n",
       "      <td>85746</td>\n",
       "      <td>0316015849</td>\n",
       "      <td>good_reads:book</td>\n",
       "      <td>https://www.goodreads.com/author/show/941441.S...</td>\n",
       "      <td>2005</td>\n",
       "      <td>/genres/young-adult|/genres/fantasy|/genres/ro...</td>\n",
       "      <td>dir01/41865.Twilight.html</td>\n",
       "      <td>2579564</td>\n",
       "      <td>Twilight (Twilight, #1)</td>\n",
       "    </tr>\n",
       "    <tr>\n",
       "      <th>3</th>\n",
       "      <td>4.23</td>\n",
       "      <td>47906</td>\n",
       "      <td>0061120081</td>\n",
       "      <td>good_reads:book</td>\n",
       "      <td>https://www.goodreads.com/author/show/1825.Har...</td>\n",
       "      <td>1960</td>\n",
       "      <td>/genres/classics|/genres/fiction|/genres/histo...</td>\n",
       "      <td>dir01/2657.To_Kill_a_Mockingbird.html</td>\n",
       "      <td>2078123</td>\n",
       "      <td>To Kill a Mockingbird</td>\n",
       "    </tr>\n",
       "    <tr>\n",
       "      <th>4</th>\n",
       "      <td>4.23</td>\n",
       "      <td>34772</td>\n",
       "      <td>0679783261</td>\n",
       "      <td>good_reads:book</td>\n",
       "      <td>https://www.goodreads.com/author/show/1265.Jan...</td>\n",
       "      <td>1813</td>\n",
       "      <td>/genres/classics|/genres/fiction|/genres/roman...</td>\n",
       "      <td>dir01/1885.Pride_and_Prejudice.html</td>\n",
       "      <td>1388992</td>\n",
       "      <td>Pride and Prejudice</td>\n",
       "    </tr>\n",
       "    <tr>\n",
       "      <th>5</th>\n",
       "      <td>4.25</td>\n",
       "      <td>12363</td>\n",
       "      <td>0446675539</td>\n",
       "      <td>good_reads:book</td>\n",
       "      <td>https://www.goodreads.com/author/show/11081.Ma...</td>\n",
       "      <td>1936</td>\n",
       "      <td>/genres/classics|/genres/historical-fiction|/g...</td>\n",
       "      <td>dir01/18405.Gone_with_the_Wind.html</td>\n",
       "      <td>645470</td>\n",
       "      <td>Gone with the Wind</td>\n",
       "    </tr>\n",
       "    <tr>\n",
       "      <th>6</th>\n",
       "      <td>4.22</td>\n",
       "      <td>7205</td>\n",
       "      <td>0066238501</td>\n",
       "      <td>good_reads:book</td>\n",
       "      <td>https://www.goodreads.com/author/show/1069006....</td>\n",
       "      <td>1949</td>\n",
       "      <td>/genres/classics|/genres/young-adult|/genres/c...</td>\n",
       "      <td>dir01/11127.The_Chronicles_of_Narnia.html</td>\n",
       "      <td>286677</td>\n",
       "      <td>The Chronicles of Narnia (Chronicles of Narnia...</td>\n",
       "    </tr>\n",
       "    <tr>\n",
       "      <th>7</th>\n",
       "      <td>4.38</td>\n",
       "      <td>10902</td>\n",
       "      <td>0060256656</td>\n",
       "      <td>good_reads:book</td>\n",
       "      <td>https://www.goodreads.com/author/show/435477.S...</td>\n",
       "      <td>1964</td>\n",
       "      <td>/genres/childrens|/genres/young-adult|/genres/...</td>\n",
       "      <td>dir01/370493.The_Giving_Tree.html</td>\n",
       "      <td>502891</td>\n",
       "      <td>The Giving Tree</td>\n",
       "    </tr>\n",
       "    <tr>\n",
       "      <th>8</th>\n",
       "      <td>3.79</td>\n",
       "      <td>20670</td>\n",
       "      <td>0452284244</td>\n",
       "      <td>good_reads:book</td>\n",
       "      <td>https://www.goodreads.com/author/show/3706.Geo...</td>\n",
       "      <td>1945</td>\n",
       "      <td>/genres/classics|/genres/fiction|/genres/scien...</td>\n",
       "      <td>dir01/7613.Animal_Farm.html</td>\n",
       "      <td>1364879</td>\n",
       "      <td>Animal Farm</td>\n",
       "    </tr>\n",
       "    <tr>\n",
       "      <th>9</th>\n",
       "      <td>4.18</td>\n",
       "      <td>12302</td>\n",
       "      <td>0345391802</td>\n",
       "      <td>good_reads:book</td>\n",
       "      <td>https://www.goodreads.com/author/show/4.Dougla...</td>\n",
       "      <td>1979</td>\n",
       "      <td>/genres/science-fiction|/genres/humor|/genres/...</td>\n",
       "      <td>dir01/11.The_Hitchhiker_s_Guide_to_the_Galaxy....</td>\n",
       "      <td>724713</td>\n",
       "      <td>The Hitchhiker's Guide to the Galaxy (Hitchhik...</td>\n",
       "    </tr>\n",
       "  </tbody>\n",
       "</table>\n",
       "</div>"
      ],
      "text/plain": [
       "   rating  review_count        isbn         booktype                                         author_url  year                                         genre_urls                                                dir  rating_count                                               name\n",
       "0    4.40        136455  0439023483  good_reads:book  https://www.goodreads.com/author/show/153394.S...  2008  /genres/young-adult|/genres/science-fiction|/g...                dir01/2767052-the-hunger-games.html       2958974            The Hunger Games (The Hunger Games, #1)\n",
       "1    4.41         16648  0439358078  good_reads:book  https://www.goodreads.com/author/show/1077326....  2003  /genres/fantasy|/genres/young-adult|/genres/fi...  dir01/2.Harry_Potter_and_the_Order_of_the_Phoe...       1284478  Harry Potter and the Order of the Phoenix (Har...\n",
       "2    3.56         85746  0316015849  good_reads:book  https://www.goodreads.com/author/show/941441.S...  2005  /genres/young-adult|/genres/fantasy|/genres/ro...                          dir01/41865.Twilight.html       2579564                            Twilight (Twilight, #1)\n",
       "3    4.23         47906  0061120081  good_reads:book  https://www.goodreads.com/author/show/1825.Har...  1960  /genres/classics|/genres/fiction|/genres/histo...              dir01/2657.To_Kill_a_Mockingbird.html       2078123                              To Kill a Mockingbird\n",
       "4    4.23         34772  0679783261  good_reads:book  https://www.goodreads.com/author/show/1265.Jan...  1813  /genres/classics|/genres/fiction|/genres/roman...                dir01/1885.Pride_and_Prejudice.html       1388992                                Pride and Prejudice\n",
       "5    4.25         12363  0446675539  good_reads:book  https://www.goodreads.com/author/show/11081.Ma...  1936  /genres/classics|/genres/historical-fiction|/g...                dir01/18405.Gone_with_the_Wind.html        645470                                 Gone with the Wind\n",
       "6    4.22          7205  0066238501  good_reads:book  https://www.goodreads.com/author/show/1069006....  1949  /genres/classics|/genres/young-adult|/genres/c...          dir01/11127.The_Chronicles_of_Narnia.html        286677  The Chronicles of Narnia (Chronicles of Narnia...\n",
       "7    4.38         10902  0060256656  good_reads:book  https://www.goodreads.com/author/show/435477.S...  1964  /genres/childrens|/genres/young-adult|/genres/...                  dir01/370493.The_Giving_Tree.html        502891                                    The Giving Tree\n",
       "8    3.79         20670  0452284244  good_reads:book  https://www.goodreads.com/author/show/3706.Geo...  1945  /genres/classics|/genres/fiction|/genres/scien...                        dir01/7613.Animal_Farm.html       1364879                                        Animal Farm\n",
       "9    4.18         12302  0345391802  good_reads:book  https://www.goodreads.com/author/show/4.Dougla...  1979  /genres/science-fiction|/genres/humor|/genres/...  dir01/11.The_Hitchhiker_s_Guide_to_the_Galaxy....        724713  The Hitchhiker's Guide to the Galaxy (Hitchhik..."
      ]
     },
     "execution_count": 19,
     "metadata": {},
     "output_type": "execute_result"
    }
   ],
   "source": [
    "#Convert rating_count, review_count and year to int \n",
    "#######\n",
    "# .Insert your code\n",
    "df[['review_count','year','rating_count']]=df[['review_count','year','rating_count']].astype(int)\n",
    "print(df.dtypes)\n",
    "df.head(10)"
   ]
  },
  {
   "cell_type": "markdown",
   "metadata": {},
   "source": [
    "Final check"
   ]
  },
  {
   "cell_type": "markdown",
   "metadata": {},
   "source": [
    "Some of the other colums that should be strings have NaN. "
   ]
  },
  {
   "cell_type": "code",
   "execution_count": null,
   "metadata": {},
   "outputs": [],
   "source": [
    "df.loc[df.genre_urls.isnull(), 'genre_urls']=\"\"\n",
    "df.loc[df.isbn.isnull(), 'isbn']=\"\""
   ]
  },
  {
   "cell_type": "markdown",
   "metadata": {},
   "source": [
    "##  Part 2: Asking Questions\n",
    "Think of few questions we want to ask and then examine the data and decide if the dataframe contains what you need to address these questions. \n",
    "\n",
    "**Example:** Which are the highest rated books? To determine this, you'll only need the data in two columns: `name` and `rating`. The task will be to sort these two columns by the value in `rating`.\n",
    "[5 min]"
   ]
  },
  {
   "cell_type": "markdown",
   "metadata": {},
   "source": [
    "---"
   ]
  },
  {
   "cell_type": "markdown",
   "metadata": {},
   "source": [
    "##  Part 3: Parsing and Completing the Data Frame \n",
    "\n",
    "We will need author and genre to proceed! Parse the `author` column from the author_url and `genres` column from the genre_urls. Keep the `genres` column as a string separated by '|'.\n",
    "\n",
    "Hint: Use panda's `map` to assign new columns to the dataframe.  \n",
    "\n",
    "[10 minutes]\n",
    "\n",
    "---"
   ]
  },
  {
   "cell_type": "markdown",
   "metadata": {},
   "source": [
    "Examine an example `author_url` and reason about which sequence of string operations must be performed in order to isolate the author's name."
   ]
  },
  {
   "cell_type": "code",
   "execution_count": 20,
   "metadata": {},
   "outputs": [
    {
     "data": {
      "text/plain": [
       "'https://www.goodreads.com/author/show/153394.Suzanne_Collins'"
      ]
     },
     "execution_count": 20,
     "metadata": {},
     "output_type": "execute_result"
    }
   ],
   "source": [
    "#Get the first author_url\n",
    "test_string = df.author_url[0]\n",
    "test_string"
   ]
  },
  {
   "cell_type": "code",
   "execution_count": 44,
   "metadata": {},
   "outputs": [],
   "source": [
    "#Test out some string operations to isolate the author name\n",
    "####### \n",
    "#   Insert your code\n",
    "#df['author_name']=df['author_url'].apply(lambda x: x.split('.')[-1])\n",
    "#df['author_name']=df['author_url'].str.rsplit('.',1).apply(lambda x:x[-1])\n",
    "#df.author_name.head()"
   ]
  },
  {
   "cell_type": "markdown",
   "metadata": {},
   "source": [
    "Now parse out the genres from `genre_url`.  Like with the authors, we'll assign a new `genres` column to the dataframe.\n",
    "\n",
    "This is a little more complicated because there be more than one genre."
   ]
  },
  {
   "cell_type": "code",
   "execution_count": 47,
   "metadata": {},
   "outputs": [
    {
     "data": {
      "text/plain": [
       "0    Suzanne_Collins\n",
       "1        J_K_Rowling\n",
       "2    Stephenie_Meyer\n",
       "3         Harper_Lee\n",
       "4        Jane_Austen\n",
       "Name: author, dtype: object"
      ]
     },
     "execution_count": 47,
     "metadata": {},
     "output_type": "execute_result"
    }
   ],
   "source": [
    "#Write a function that accepts an author url and returns the author's name based on your experimentation above\n",
    "def get_author(url):\n",
    "    ####### \n",
    "    #   Insert your code\n",
    "    name=url.rsplit('.',1)[-1]\n",
    "    return name\n",
    "\n",
    "#Apply the get_author function to the 'author_url' column using '.map' \n",
    "#and add a new column 'author' to store the names\n",
    "df['author'] = df.author_url.map(get_author)\n",
    "df.author[0:5]"
   ]
  },
  {
   "cell_type": "code",
   "execution_count": 66,
   "metadata": {},
   "outputs": [
    {
     "name": "stdout",
     "output_type": "stream",
     "text": [
      "/genres/young-adult|/genres/science-fiction|/genres/dystopia|/genres/fantasy|/genres/science-fiction|/genres/romance|/genres/adventure|/genres/book-club|/genres/young-adult|/genres/teen|/genres/apocalyptic|/genres/post-apocalyptic|/genres/action\n"
     ]
    },
    {
     "data": {
      "text/plain": [
       "'young-adult, science-fiction, dystopia, fantasy, science-fiction, romance, adventure, book-club, young-adult, teen, apocalyptic, post-apocalyptic, action'"
      ]
     },
     "execution_count": 66,
     "metadata": {},
     "output_type": "execute_result"
    }
   ],
   "source": [
    "#Examine some examples of genre_urls\n",
    "\n",
    "#Test out some string operations to isolate the genre name\n",
    "####### \n",
    "#   Insert your code\n",
    "genre=df.loc[0,'genre_urls']\n",
    "print(genre)\n",
    "genre=[x.split('/')[-1] for x in genre.split('|')]\n",
    "genre=', '.join(genre)\n",
    "genre"
   ]
  },
  {
   "cell_type": "code",
   "execution_count": 67,
   "metadata": {},
   "outputs": [
    {
     "data": {
      "text/html": [
       "<div>\n",
       "<style>\n",
       "    .dataframe thead tr:only-child th {\n",
       "        text-align: right;\n",
       "    }\n",
       "\n",
       "    .dataframe thead th {\n",
       "        text-align: left;\n",
       "    }\n",
       "\n",
       "    .dataframe tbody tr th {\n",
       "        vertical-align: top;\n",
       "    }\n",
       "</style>\n",
       "<table border=\"1\" class=\"dataframe\">\n",
       "  <thead>\n",
       "    <tr style=\"text-align: right;\">\n",
       "      <th></th>\n",
       "      <th>rating</th>\n",
       "      <th>review_count</th>\n",
       "      <th>isbn</th>\n",
       "      <th>booktype</th>\n",
       "      <th>author_url</th>\n",
       "      <th>year</th>\n",
       "      <th>genre_urls</th>\n",
       "      <th>dir</th>\n",
       "      <th>rating_count</th>\n",
       "      <th>name</th>\n",
       "      <th>author_name</th>\n",
       "      <th>author</th>\n",
       "      <th>genres</th>\n",
       "    </tr>\n",
       "  </thead>\n",
       "  <tbody>\n",
       "    <tr>\n",
       "      <th>0</th>\n",
       "      <td>4.40</td>\n",
       "      <td>136455</td>\n",
       "      <td>0439023483</td>\n",
       "      <td>good_reads:book</td>\n",
       "      <td>https://www.goodreads.com/author/show/153394.S...</td>\n",
       "      <td>2008</td>\n",
       "      <td>/genres/young-adult|/genres/science-fiction|/g...</td>\n",
       "      <td>dir01/2767052-the-hunger-games.html</td>\n",
       "      <td>2958974</td>\n",
       "      <td>The Hunger Games (The Hunger Games, #1)</td>\n",
       "      <td>Suzanne_Collins</td>\n",
       "      <td>Suzanne_Collins</td>\n",
       "      <td>young-adult, science-fiction, dystopia, fantas...</td>\n",
       "    </tr>\n",
       "    <tr>\n",
       "      <th>1</th>\n",
       "      <td>4.41</td>\n",
       "      <td>16648</td>\n",
       "      <td>0439358078</td>\n",
       "      <td>good_reads:book</td>\n",
       "      <td>https://www.goodreads.com/author/show/1077326....</td>\n",
       "      <td>2003</td>\n",
       "      <td>/genres/fantasy|/genres/young-adult|/genres/fi...</td>\n",
       "      <td>dir01/2.Harry_Potter_and_the_Order_of_the_Phoe...</td>\n",
       "      <td>1284478</td>\n",
       "      <td>Harry Potter and the Order of the Phoenix (Har...</td>\n",
       "      <td>J_K_Rowling</td>\n",
       "      <td>J_K_Rowling</td>\n",
       "      <td>fantasy, young-adult, fiction, fantasy, magic,...</td>\n",
       "    </tr>\n",
       "    <tr>\n",
       "      <th>2</th>\n",
       "      <td>3.56</td>\n",
       "      <td>85746</td>\n",
       "      <td>0316015849</td>\n",
       "      <td>good_reads:book</td>\n",
       "      <td>https://www.goodreads.com/author/show/941441.S...</td>\n",
       "      <td>2005</td>\n",
       "      <td>/genres/young-adult|/genres/fantasy|/genres/ro...</td>\n",
       "      <td>dir01/41865.Twilight.html</td>\n",
       "      <td>2579564</td>\n",
       "      <td>Twilight (Twilight, #1)</td>\n",
       "      <td>Stephenie_Meyer</td>\n",
       "      <td>Stephenie_Meyer</td>\n",
       "      <td>young-adult, fantasy, romance, paranormal, vam...</td>\n",
       "    </tr>\n",
       "    <tr>\n",
       "      <th>3</th>\n",
       "      <td>4.23</td>\n",
       "      <td>47906</td>\n",
       "      <td>0061120081</td>\n",
       "      <td>good_reads:book</td>\n",
       "      <td>https://www.goodreads.com/author/show/1825.Har...</td>\n",
       "      <td>1960</td>\n",
       "      <td>/genres/classics|/genres/fiction|/genres/histo...</td>\n",
       "      <td>dir01/2657.To_Kill_a_Mockingbird.html</td>\n",
       "      <td>2078123</td>\n",
       "      <td>To Kill a Mockingbird</td>\n",
       "      <td>Harper_Lee</td>\n",
       "      <td>Harper_Lee</td>\n",
       "      <td>classics, fiction, historical-fiction, academi...</td>\n",
       "    </tr>\n",
       "    <tr>\n",
       "      <th>4</th>\n",
       "      <td>4.23</td>\n",
       "      <td>34772</td>\n",
       "      <td>0679783261</td>\n",
       "      <td>good_reads:book</td>\n",
       "      <td>https://www.goodreads.com/author/show/1265.Jan...</td>\n",
       "      <td>1813</td>\n",
       "      <td>/genres/classics|/genres/fiction|/genres/roman...</td>\n",
       "      <td>dir01/1885.Pride_and_Prejudice.html</td>\n",
       "      <td>1388992</td>\n",
       "      <td>Pride and Prejudice</td>\n",
       "      <td>Jane_Austen</td>\n",
       "      <td>Jane_Austen</td>\n",
       "      <td>classics, fiction, romance, historical-fiction...</td>\n",
       "    </tr>\n",
       "  </tbody>\n",
       "</table>\n",
       "</div>"
      ],
      "text/plain": [
       "   rating  review_count        isbn         booktype                                         author_url  year                                         genre_urls                                                dir  rating_count                                               name      author_name           author                                             genres\n",
       "0    4.40        136455  0439023483  good_reads:book  https://www.goodreads.com/author/show/153394.S...  2008  /genres/young-adult|/genres/science-fiction|/g...                dir01/2767052-the-hunger-games.html       2958974            The Hunger Games (The Hunger Games, #1)  Suzanne_Collins  Suzanne_Collins  young-adult, science-fiction, dystopia, fantas...\n",
       "1    4.41         16648  0439358078  good_reads:book  https://www.goodreads.com/author/show/1077326....  2003  /genres/fantasy|/genres/young-adult|/genres/fi...  dir01/2.Harry_Potter_and_the_Order_of_the_Phoe...       1284478  Harry Potter and the Order of the Phoenix (Har...      J_K_Rowling      J_K_Rowling  fantasy, young-adult, fiction, fantasy, magic,...\n",
       "2    3.56         85746  0316015849  good_reads:book  https://www.goodreads.com/author/show/941441.S...  2005  /genres/young-adult|/genres/fantasy|/genres/ro...                          dir01/41865.Twilight.html       2579564                            Twilight (Twilight, #1)  Stephenie_Meyer  Stephenie_Meyer  young-adult, fantasy, romance, paranormal, vam...\n",
       "3    4.23         47906  0061120081  good_reads:book  https://www.goodreads.com/author/show/1825.Har...  1960  /genres/classics|/genres/fiction|/genres/histo...              dir01/2657.To_Kill_a_Mockingbird.html       2078123                              To Kill a Mockingbird       Harper_Lee       Harper_Lee  classics, fiction, historical-fiction, academi...\n",
       "4    4.23         34772  0679783261  good_reads:book  https://www.goodreads.com/author/show/1265.Jan...  1813  /genres/classics|/genres/fiction|/genres/roman...                dir01/1885.Pride_and_Prejudice.html       1388992                                Pride and Prejudice      Jane_Austen      Jane_Austen  classics, fiction, romance, historical-fiction..."
      ]
     },
     "execution_count": 67,
     "metadata": {},
     "output_type": "execute_result"
    }
   ],
   "source": [
    "#Write a function that accepts a genre url and returns the genre name based on your experimentation above\n",
    "def split_and_join_genres(url):\n",
    "    ####### \n",
    "    #   Insert your code\n",
    "    genre=[x.split('/')[-1] for x in url.split('|')]\n",
    "    genre=', '.join(genre)\n",
    "    return genre\n",
    "\n",
    "df['genres']=df.genre_urls.map(split_and_join_genres)\n",
    "df.head()"
   ]
  },
  {
   "cell_type": "markdown",
   "metadata": {},
   "source": [
    "---"
   ]
  },
  {
   "cell_type": "markdown",
   "metadata": {},
   "source": [
    "## Part 4: EDA \n",
    "Before proceeding any further, get to know the dataset using a few \"global property\" visualizations, illustrating histograms with both linear and log scales. Do you find anything interesting or strange? \n",
    "\n",
    "\n",
    "[10 minutes]\n",
    "\n",
    "---"
   ]
  },
  {
   "cell_type": "markdown",
   "metadata": {},
   "source": [
    "Choose some columns to generate histograms."
   ]
  },
  {
   "cell_type": "code",
   "execution_count": 80,
   "metadata": {},
   "outputs": [
    {
     "data": {
      "image/png": "[encoded data removed]",
      "text/plain": [
       "<matplotlib.figure.Figure at 0x1103277b8>"
      ]
     },
     "metadata": {},
     "output_type": "display_data"
    }
   ],
   "source": [
    "#Generate histograms using the format df.YOUR_CHOICE_OF_COLUMN_NAME.hist(bins=YOUR_CHOICE_OF_BIN_SIZE)\n",
    "df.year.hist(bins=10)\n",
    "plt.xlabel('Label the x-axis appropriately')\n",
    "plt.ylabel('Label the y-axis appropriately')\n",
    "plt.title('Title the plot appropriately')\n",
    "\n",
    "plt.show()"
   ]
  },
  {
   "cell_type": "markdown",
   "metadata": {},
   "source": [
    "If your histograms appear strange or counter-intuitive, make appropriate adjustments in the data and re-visualize."
   ]
  },
  {
   "cell_type": "code",
   "execution_count": null,
   "metadata": {},
   "outputs": [],
   "source": [
    "#Generate histograms using the format df.YOUR_CHOICE_OF_COLUMN_NAME.hist(bins=YOUR_CHOICE_OF_BIN_SIZE)\n",
    "\n",
    "plt.xlabel('Label the x-axis appropriately')\n",
    "plt.ylabel('Label the y-axis appropriately')\n",
    "plt.title('Title the plot appropriately')\n",
    "\n",
    "plt.show()"
   ]
  },
  {
   "cell_type": "markdown",
   "metadata": {},
   "source": [
    "\n",
    "## Part 5:  Determining the Best Books \n",
    "\n",
    "This is an example of an analysis of the \"grouped property\" type.\n",
    "\n",
    "Think of some reasonable definitions of what it could mean to be a \"best book.\" (After all, these are all the best books according to Goodreads)\n",
    "\n",
    "[5 minutes] \n",
    "\n",
    "---"
   ]
  },
  {
   "cell_type": "markdown",
   "metadata": {},
   "source": [
    "For example, we can determine the \"best book\" by year! Determine the best books in each year."
   ]
  },
  {
   "cell_type": "code",
   "execution_count": 79,
   "metadata": {},
   "outputs": [
    {
     "name": "stdout",
     "output_type": "stream",
     "text": [
      "best book in -1500 is The Epic of Gilgamesh\n",
      "best book in -800 is The Odyssey\n",
      "best book in -560 is Aesop's Fables\n",
      "best book in -512 is The Art of War\n",
      "best book in -500 is The Bhagavad Gita\n",
      "best book in -458 is The Oresteia\n",
      "best book in -442 is Antigone\n",
      "best book in -440 is The Histories\n",
      "best book in -431 is Medea\n",
      "best book in -429 is Oedipus Rex\n",
      "best book in -411 is The History of the Peloponnesian War\n",
      "best book in -400 is The Oedipus Cycle\n",
      "best book in -390 is Apology\n",
      "best book in -380 is The Republic\n",
      "best book in -370 is The Symposium\n",
      "best book in -360 is Five Dialogues\n",
      "best book in -350 is The Nicomachean Ethics\n",
      "best book in -29 is The Aeneid\n",
      "best book in 4 is The Seven Spiritual Laws of Success\n",
      "best book in 8 is Metamorphoses\n",
      "best book in 100 is The New Oxford Annotated Bible, New Revised Standard Version\n",
      "best book in 121 is The Twelve Caesars\n",
      "best book in 130 is Holy Bible\n",
      "best book in 158 is The Golden Ass\n",
      "best book in 174 is Meditations\n",
      "best book in 200 is The Garden of Eden\n",
      "best book in 201 is Fe Fi FOE Comes\n",
      "best book in 213 is NaÃ¯ve. Super\n",
      "best book in 397 is Confessions\n",
      "best book in 800 is Beowulf\n",
      "best book in 900 is The Arabian Nights\n",
      "best book in 968 is La BÃªte humaine (Les Rougon-Macquart, #17)\n",
      "best book in 1002 is The Pillow Book\n",
      "best book in 1008 is The Tale of Genji\n",
      "best book in 1010 is Shahnameh\n",
      "best book in 1100 is Rubaiyat of Omar Khayyam\n",
      "best book in 1106 is The TÃ¡in\n",
      "best book in 1140 is Poema de MÃ­o Cid\n",
      "best book in 1200 is The Poetic Edda\n",
      "best book in 1220 is The Prose Edda\n",
      "best book in 1300 is The Imitation of Christ\n",
      "best book in 1314 is Inferno (The Divine Comedy, #1)\n",
      "best book in 1321 is The Divine Comedy\n",
      "best book in 1348 is The Decameron\n",
      "best book in 1386 is The Witch Of Portobello\n",
      "best book in 1390 is The Canterbury Tales\n",
      "best book in 1391 is Keep the Aspidistra Flying\n",
      "best book in 1485 is Le Morte d'Arthur\n",
      "best book in 1516 is Utopia\n",
      "best book in 1522 is Three Kingdoms\n",
      "best book in 1532 is The Prince\n",
      "best book in 1572 is The Complete Essays\n",
      "best book in 1589 is Titus Andronicus\n",
      "best book in 1590 is The Taming of the Shrew\n",
      "best book in 1592 is Monkey\n",
      "best book in 1595 is A Midsummer Night's Dream\n",
      "best book in 1597 is Romeo and Juliet\n",
      "best book in 1599 is Julius Caesar\n",
      "best book in 1600 is The Merchant of Venice\n",
      "best book in 1601 is Twelfth Night\n",
      "best book in 1602 is Hamlet\n",
      "best book in 1603 is Othello\n",
      "best book in 1604 is Doctor Faustus\n",
      "best book in 1605 is Don Quixote\n",
      "best book in 1606 is Antony and Cleopatra\n",
      "best book in 1608 is Coriolanus\n",
      "best book in 1609 is Shakespeare's Sonnets\n",
      "best book in 1611 is The Tempest\n",
      "best book in 1621 is The Anatomy of Melancholy\n",
      "best book in 1623 is The Complete Works\n",
      "best book in 1635 is La vida es sueÃ±o\n",
      "best book in 1642 is A Book of Five Rings\n",
      "best book in 1667 is Paradise Lost\n",
      "best book in 1678 is The Pilgrim's Progress\n",
      "best book in 1680 is The Divan\n",
      "best book in 1691 is The Practice of the Presence of God\n",
      "best book in 1719 is Robinson Crusoe\n",
      "best book in 1721 is Moll Flanders\n",
      "best book in 1726 is Gulliver's Travels\n",
      "best book in 1729 is A Modest Proposal and Other Satirical Works\n",
      "best book in 1748 is Clarissa, or, the History of a Young Lady\n",
      "best book in 1749 is The History of Tom Jones, a Foundling\n",
      "best book in 1759 is Candide\n",
      "best book in 1767 is The Life and Opinions of Tristram Shandy, Gentleman\n",
      "best book in 1774 is The Sorrows of Young Werther\n",
      "best book in 1776 is Common Sense\n",
      "best book in 1778 is Evelina\n",
      "best book in 1781 is Critique of Pure Reason\n",
      "best book in 1782 is Les Liaisons Dangereuses\n",
      "best book in 1787 is Faust\n",
      "best book in 1790 is The Bounty Mutiny\n",
      "best book in 1791 is The Autobiography of Benjamin Franklin\n",
      "best book in 1794 is Songs of Innocence and of Experience\n",
      "best book in 1795 is The Monk\n",
      "best book in 1798 is The Rime of the Ancient Mariner\n",
      "best book in 1806 is Phenomenology of Spirit\n",
      "best book in 1811 is Sense and Sensibility\n",
      "best book in 1812 is The Complete Grimm's Fairy Tales\n",
      "best book in 1813 is Pride and Prejudice\n",
      "best book in 1814 is Mansfield Park\n",
      "best book in 1815 is Emma\n",
      "best book in 1817 is Northanger Abbey\n",
      "best book in 1818 is Frankenstein\n",
      "best book in 1819 is Ivanhoe\n",
      "best book in 1820 is The Legend of Sleepy Hollow\n",
      "best book in 1823 is The Night Before Christmas\n",
      "best book in 1824 is Don Juan\n",
      "best book in 1825 is Eugene Onegin\n",
      "best book in 1826 is The Last of the Mohicans (The Leatherstocking Tales #2)\n",
      "best book in 1830 is The Book of Mormon\n",
      "best book in 1831 is The Hunchback of Notre-Dame\n",
      "best book in 1832 is Faust\n",
      "best book in 1833 is EugÃ©nie Grandet\n",
      "best book in 1834 is PÃ¨re Goriot\n",
      "best book in 1835 is Lectures on Faith\n",
      "best book in 1837 is The Pickwick Papers\n",
      "best book in 1839 is Oliver Twist\n",
      "best book in 1840 is Tales of Mystery and Imagination\n",
      "best book in 1841 is The Old Curiosity Shop\n",
      "best book in 1842 is Dead Souls\n",
      "best book in 1843 is The Tell-Tale Heart and Other Writings\n",
      "best book in 1844 is The Count of Monte Cristo\n",
      "best book in 1845 is The Raven and Other Poems\n",
      "best book in 1847 is Jane Eyre\n",
      "best book in 1848 is The Tenant of Wildfell Hall\n",
      "best book in 1849 is Shirley\n",
      "best book in 1850 is The Scarlet Letter\n",
      "best book in 1851 is Moby-Dick; or, The Whale\n",
      "best book in 1852 is Uncle Tom's Cabin\n",
      "best book in 1853 is Bleak House\n",
      "best book in 1854 is Walden\n",
      "best book in 1855 is Leaves of Grass\n",
      "best book in 1856 is Madame Bovary\n",
      "best book in 1857 is Les Fleurs du Mal\n",
      "best book in 1859 is A Tale of Two Cities\n",
      "best book in 1860 is The Woman in White\n",
      "best book in 1861 is Great Expectations\n",
      "best book in 1862 is Les MisÃ©rables\n",
      "best book in 1863 is From the Earth to the Moon (Extraordinary Voyages, #4)\n",
      "best book in 1864 is Journey to the Center of the Earth (Extraordinary Voyages, #3)\n",
      "best book in 1865 is Alice's Adventures in Wonderland & Through the Looking-Glass\n",
      "best book in 1866 is Crime and Punishment\n",
      "best book in 1867 is Capital, Volume 1 (Das Kapital, #1)\n",
      "best book in 1868 is Little Women (Little Women, #1)\n",
      "best book in 1869 is The Idiot\n",
      "best book in 1870 is Twenty Thousand Leagues Under the Sea (Extraordinary Voyages, #6)\n",
      "best book in 1871 is Carmilla\n",
      "best book in 1872 is Middlemarch\n",
      "best book in 1873 is Around the World in Eighty Days\n",
      "best book in 1874 is Far from the Madding Crowd\n",
      "best book in 1875 is Illuminations\n",
      "best book in 1876 is The Adventures of Tom Sawyer\n",
      "best book in 1877 is Anna Karenina\n",
      "best book in 1878 is The Return of the Native\n",
      "best book in 1879 is A Doll's House\n",
      "best book in 1880 is The Brothers Karamazov\n",
      "best book in 1881 is The Portrait of a Lady\n",
      "best book in 1882 is The Gay Science\n",
      "best book in 1883 is Treasure Island\n",
      "best book in 1884 is The Adventures of Huckleberry Finn\n",
      "best book in 1885 is Germinal (Les Rougon-Macquart, #13)\n",
      "best book in 1886 is The Strange Case of Dr. Jekyll and Mr. Hyde\n",
      "best book in 1887 is A Study in Scarlet (Sherlock Holmes, #1)\n",
      "best book in 1888 is Os Maias\n",
      "best book in 1889 is A Connecticut Yankee in King Arthur's Court\n",
      "best book in 1890 is The Picture of Dorian Gray\n",
      "best book in 1891 is Tess of the d'Urbervilles\n",
      "best book in 1892 is The Adventures of Sherlock Holmes (Sherlock Holmes, #3)\n",
      "best book in 1893 is The Memoirs of Sherlock Holmes (Sherlock Holmes, #4)\n",
      "best book in 1894 is The Jungle Books\n",
      "best book in 1895 is The Importance of Being Earnest\n",
      "best book in 1896 is The Island of Dr. Moreau\n",
      "best book in 1897 is Dracula\n",
      "best book in 1898 is The War of the Worlds\n",
      "best book in 1899 is Heart of Darkness\n",
      "best book in 1900 is Their Eyes Were Watching God\n",
      "best book in 1901 is The Hound of the Baskervilles (Sherlock Holmes, #5)\n",
      "best book in 1902 is Peter Pan\n",
      "best book in 1903 is The Call of the Wild\n",
      "best book in 1904 is Have a Little Faith\n",
      "best book in 1905 is A Little Princess\n",
      "best book in 1906 is White Fang\n",
      "best book in 1907 is The Shepherd of the Hills\n",
      "best book in 1908 is Anne of Green Gables (Anne of Green Gables, #1)\n",
      "best book in 1909 is Anne of Avonlea (Anne of Green Gables, #2)\n",
      "best book in 1910 is The Phantom of the Opera\n",
      "best book in 1911 is The Secret Garden\n",
      "best book in 1912 is Death in Venice and Other Tales\n",
      "best book in 1913 is Swann's Way (In Search of Lost Time, #1)\n",
      "best book in 1914 is Dubliners\n",
      "best book in 1915 is The Metamorphosis\n",
      "best book in 1916 is A Portrait of the Artist as a Young Man\n",
      "best book in 1917 is Anne's House of Dreams (Anne of Green Gables, #5)\n",
      "best book in 1918 is My Ãntonia\n",
      "best book in 1919 is Demian\n",
      "best book in 1920 is Ulysses\n",
      "best book in 1921 is Rilla of Ingleside (Anne of Green Gables, #8)\n",
      "best book in 1922 is Siddhartha\n",
      "best book in 1923 is The Prophet\n",
      "best book in 1924 is The Complete Sherlock Holmes\n",
      "best book in 1925 is The Great Gatsby\n",
      "best book in 1926 is Winnie-the-Pooh\n",
      "best book in 1927 is Steppenwolf\n",
      "best book in 1928 is All Quiet on the Western Front\n",
      "best book in 1929 is A Farewell to Arms\n",
      "best book in 1930 is The Poetry of Robert Frost\n",
      "best book in 1931 is The Good Earth (House of Earth, #1)\n",
      "best book in 1932 is Brave New World\n",
      "best book in 1933 is The Complete Novels\n",
      "best book in 1934 is Murder on the Orient Express (Hercule Poirot, #10)\n",
      "best book in 1935 is Little House on the Prairie (Little House, #2)\n",
      "best book in 1936 is Gone with the Wind\n",
      "best book in 1937 is Of Mice and Men\n",
      "best book in 1938 is Rebecca\n",
      "best book in 1939 is And Then There Were None\n",
      "best book in 1940 is The Little Prince\n",
      "best book in 1941 is Long Day's Journey Into Night\n",
      "best book in 1942 is The Screwtape Letters\n",
      "best book in 1943 is A Tree Grows in Brooklyn\n",
      "best book in 1944 is Brideshead Revisited\n",
      "best book in 1945 is Animal Farm\n",
      "best book in 1946 is Man's Search for Meaning\n",
      "best book in 1947 is A Streetcar Named Desire\n",
      "best book in 1948 is I Capture the Castle\n",
      "best book in 1949 is The Chronicles of Narnia (Chronicles of Narnia, #1-7)\n",
      "best book in 1950 is The Lion, the Witch, and the Wardrobe (Chronicles of Narnia, #1)\n",
      "best book in 1951 is The Catcher in the Rye\n",
      "best book in 1952 is Charlotte's Web\n",
      "best book in 1953 is Fahrenheit 451\n",
      "best book in 1954 is Lord of the Flies\n",
      "best book in 1955 is The Magician's Nephew (Chronicles of Narnia, #6)\n",
      "best book in 1956 is Howl and Other Poems\n",
      "best book in 1957 is Atlas Shrugged\n",
      "best book in 1958 is The Once and Future King (The Once and Future King #1-4)\n",
      "best book in 1959 is Flowers for Algernon\n",
      "best book in 1960 is To Kill a Mockingbird\n",
      "best book in 1961 is Catch-22 (Catch-22, #1)\n",
      "best book in 1962 is A Wrinkle in Time (A Wrinkle in Time Quintet, #1)\n",
      "best book in 1963 is Where the Wild Things Are\n",
      "best book in 1964 is The Giving Tree\n",
      "best book in 1965 is In Cold Blood\n",
      "best book in 1966 is Rosencrantz and Guildenstern Are Dead\n",
      "best book in 1967 is One Hundred Years of Solitude\n",
      "best book in 1968 is Do Androids Dream of Electric Sheep?\n"
     ]
    },
    {
     "name": "stdout",
     "output_type": "stream",
     "text": [
      "best book in 1969 is Slaughterhouse-Five\n",
      "best book in 1970 is Jonathan Livingston Seagull\n",
      "best book in 1971 is The Lorax\n",
      "best book in 1972 is Watership Down\n",
      "best book in 1973 is J.R.R. Tolkien 4-Book Boxed Set\n",
      "best book in 1974 is Zen and the Art of Motorcycle Maintenance\n",
      "best book in 1975 is The Complete Stories and Poems\n",
      "best book in 1976 is Interview with the Vampire (The Vampire Chronicles, #1)\n",
      "best book in 1977 is The Shining (The Shining #1)\n",
      "best book in 1978 is The Stand\n",
      "best book in 1979 is The Hitchhiker's Guide to the Galaxy (Hitchhiker's Guide to the Galaxy, #1)\n",
      "best book in 1980 is The Name of the Rose\n",
      "best book in 1981 is The Unbearable Lightness of Being\n",
      "best book in 1982 is The Color Purple\n",
      "best book in 1983 is The Mists of Avalon (Avalon, #1)\n",
      "best book in 1984 is Neuromancer (Sprawl #1)\n",
      "best book in 1985 is Ender's Game (The Ender Quintet, #1)\n",
      "best book in 1986 is Watchmen\n",
      "best book in 1987 is Beloved\n",
      "best book in 1988 is The Alchemist\n",
      "best book in 1989 is The Pillars of the Earth (The Pillars of the Earth, #1)\n",
      "best book in 1990 is Good Omens\n",
      "best book in 1991 is Outlander (Outlander, #1)\n",
      "best book in 1992 is She's Come Undone\n",
      "best book in 1993 is The Giver (The Giver, #1)\n",
      "best book in 1994 is The Compleat Works of Wllm Shkspr\n",
      "best book in 1995 is The Golden Compass (His Dark Materials, #1)\n",
      "best book in 1996 is Angela's Ashes (Frank McCourt, #1)\n",
      "best book in 1997 is Memoirs of a Geisha\n",
      "best book in 1998 is The Poisonwood Bible\n",
      "best book in 1999 is The Perks of Being a Wallflower\n",
      "best book in 2000 is Eat, Pray, Love\n",
      "best book in 2001 is Life of Pi\n",
      "best book in 2002 is The Lovely Bones\n",
      "best book in 2003 is Harry Potter and the Order of the Phoenix (Harry Potter, #5)\n",
      "best book in 2004 is My Sister's Keeper\n",
      "best book in 2005 is Twilight (Twilight, #1)\n",
      "best book in 2006 is Water for Elephants\n",
      "best book in 2007 is A Thousand Splendid Suns\n",
      "best book in 2008 is The Hunger Games (The Hunger Games, #1)\n",
      "best book in 2009 is The Help\n",
      "best book in 2010 is Spirit Bound (Vampire Academy, #5)\n",
      "best book in 2011 is Divergent (Divergent, #1)\n",
      "best book in 2012 is The Fault in Our Stars\n",
      "best book in 2013 is Clockwork Princess (The Infernal Devices, #3)\n",
      "best book in 2014 is Honor and Polygamy\n"
     ]
    }
   ],
   "source": [
    "#Using .groupby, we can divide the dataframe into subsets by the values of 'year'.\n",
    "#We can then iterate over these subsets\n",
    "for year, subset in df.groupby('year'):\n",
    "    #Find the best book of the year\n",
    "    ####### \n",
    "    #   Insert your code\n",
    "    best_book=subset.reset_index().sort_values(by='rating',ascending=False).loc[0,'name']\n",
    "    print('best book in {} is {}'.format(year,best_book))\n"
   ]
  },
  {
   "cell_type": "markdown",
   "metadata": {},
   "source": [
    "Try this for few other definitions of the \"best book\" using `.groupby`."
   ]
  },
  {
   "cell_type": "markdown",
   "metadata": {},
   "source": [
    "## Part 6:  Trends in Popularity of Genres \n",
    "\n",
    "This is an example of an analysis of the \"grouped property\" type.\n",
    "\n",
    "There are a lot of questions you could ask about genres.\n",
    "* Which genre is currently the most popular?\n",
    "* Better, based on our data, what draw conclusions can you draw about the time evolution of the popularity of each genre?\n",
    "\n",
    "[15 minutes]\n",
    "\n",
    "---"
   ]
  },
  {
   "cell_type": "markdown",
   "metadata": {},
   "source": [
    "First we need to find the distinct genres in the dataframe. \n",
    "\n",
    "To do this, notice that each string is a pipe (|) separated list of genres. For each string, we ask if the genre is in that pipe separated list.  If it is, we return True, else False\n",
    "\n",
    "**Hint: remember that python sets have unique (non-repeating) items.**"
   ]
  },
  {
   "cell_type": "code",
   "execution_count": null,
   "metadata": {
    "collapsed": true
   },
   "outputs": [],
   "source": [
    "#Get the unique genres contained in the dataframe.\n",
    "####### \n",
    "#   Insert your code\n",
    "####### "
   ]
  },
  {
   "cell_type": "markdown",
   "metadata": {},
   "source": [
    "What happens if we add a column to the dataframe for each genre? \n",
    "\n",
    "Is this way of representing genre efficient? Allows for easy computation and visualization?\n",
    "\n",
    "Are there other ways to represent genre information in the dataframe that allow for each visualization?"
   ]
  },
  {
   "cell_type": "code",
   "execution_count": null,
   "metadata": {
    "collapsed": true
   },
   "outputs": [],
   "source": [
    "#Add a column for each genre\n",
    "####### \n",
    "#   Insert your code\n",
    "####### \n",
    "df.shape"
   ]
  },
  {
   "cell_type": "markdown",
   "metadata": {},
   "source": [
    "Now explore some ways to visualize the genres represented in the dataframe. \n",
    "\n",
    "For example, you might ask which is the most represented genre."
   ]
  },
  {
   "cell_type": "code",
   "execution_count": null,
   "metadata": {
    "collapsed": true
   },
   "outputs": [],
   "source": [
    "#Explore different ways to visualize information about the genres in the dataframe\n",
    "####### \n",
    "#   Insert your code\n",
    "####### "
   ]
  },
  {
   "cell_type": "markdown",
   "metadata": {},
   "source": [
    "### Part 6.1: What can you conclude from the above visualizations?\n",
    "\n",
    "Pick two or three genres and describe how the popularity of these genres fluctuates with time.  "
   ]
  },
  {
   "cell_type": "markdown",
   "metadata": {
    "collapsed": true
   },
   "source": [
    "There is a category called Paranormal Romance!!!!!"
   ]
  }
 ],
 "metadata": {
  "anaconda-cloud": {},
  "kernelspec": {
   "display_name": "Python 3",
   "language": "python",
   "name": "python3"
  },
  "language_info": {
   "codemirror_mode": {
    "name": "ipython",
    "version": 3
   },
   "file_extension": ".py",
   "mimetype": "text/x-python",
   "name": "python",
   "nbconvert_exporter": "python",
   "pygments_lexer": "ipython3",
   "version": "3.6.1"
  }
 },
 "nbformat": 4,
 "nbformat_minor": 1
}
